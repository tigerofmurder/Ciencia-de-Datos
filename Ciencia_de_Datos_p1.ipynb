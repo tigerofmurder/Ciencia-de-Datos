{
  "nbformat": 4,
  "nbformat_minor": 0,
  "metadata": {
    "colab": {
      "name": "Ciencia_de_Datos_p1.ipynb",
      "provenance": [],
      "collapsed_sections": [],
      "include_colab_link": true
    },
    "kernelspec": {
      "name": "python3",
      "display_name": "Python 3"
    }
  },
  "cells": [
    {
      "cell_type": "markdown",
      "metadata": {
        "id": "view-in-github",
        "colab_type": "text"
      },
      "source": [
        "<a href=\"https://colab.research.google.com/github/tigerofmurder/Ciencia-de-Datos/blob/main/Ciencia_de_Datos_p1.ipynb\" target=\"_parent\"><img src=\"https://colab.research.google.com/assets/colab-badge.svg\" alt=\"Open In Colab\"/></a>"
      ]
    },
    {
      "cell_type": "code",
      "metadata": {
        "id": "ytaSYgEBxHgl",
        "colab": {
          "base_uri": "https://localhost:8080/"
        },
        "outputId": "c89ce801-3cda-42cd-8d06-cd63a6f6901d"
      },
      "source": [
        "import matplotlib.pyplot as plt\n",
        "import pandas as pd\n",
        "import numpy as np\n",
        "from math import isnan\n",
        "import random \n",
        "#data = pd.read_csv(\"Movie_Ratings (1).csv\") \n",
        "data = pd.read_csv(\"music1.csv\")\n",
        "data.head()\n",
        "\n",
        "headers = data.columns.to_list()\n",
        "header = headers.pop(0)\n",
        "\n",
        "print(data)\n"
      ],
      "execution_count": null,
      "outputs": [
        {
          "output_type": "stream",
          "text": [
            "         Unnamed: 0  Angelica  Bill  Chan  Dan  Harley  Jordyn  Sam  Veronica\n",
            "0    Blues Traveler       3.5   2.0   5.0  3.0     NaN     NaN  5.0       3.0\n",
            "1      Broken Bells       2.0   3.5   1.0  4.0     4.0     4.5  2.0       NaN\n",
            "2          Deadmau5       NaN   4.0   1.0  4.5     1.0     4.0  NaN       NaN\n",
            "3       Norah Jones       4.5   NaN   3.0  NaN     4.0     5.0  3.0       5.0\n",
            "4           Phoenix       5.0   2.0   5.0  3.0     NaN     5.0  5.0       4.0\n",
            "5  Slightly Stoopid       1.5   3.5   1.0  4.5     NaN     4.5  4.0       2.5\n",
            "6       The Strokes       2.5   NaN   NaN  4.0     4.0     4.0  5.0       3.0\n",
            "7   Vampire Weekend       2.0   3.0   NaN  2.0     1.0     4.0  NaN       NaN\n"
          ],
          "name": "stdout"
        }
      ]
    },
    {
      "cell_type": "code",
      "metadata": {
        "id": "XSZycz9YYFNC"
      },
      "source": [
        "def manhattan(p1,p2):\n",
        "  if p1.shape==2 and p2.shape==2:\n",
        "    return abs(p1[0]-p2[0])+abs(p1[1]-p2[1])\n",
        "  else:\n",
        "    return abs(p1-p2)\n",
        "\n",
        "def euclidiana(p1,p2):\n",
        "  if p1.shape==2 and p2.shape==2:\n",
        "    return abs(p1[0]-p2[0])+abs(p1[1]-p2[1])\n",
        "  else:\n",
        "    #print(p1,\" \",p2,\" \",np.sqrt(p1**2+p2**2))\n",
        "    return np.sqrt(p1**2+p2**2)\n",
        "\n",
        "def operation_colum(data,col1,col2):\n",
        "  salida = []\n",
        "  for i in range(0,len(data[col1])):\n",
        "    salida.append(manhattan(data[col1][i],data[col2][i]))\n",
        "    #salida.append(euclidiana(data[col1][i],data[col2][i]))\n",
        "  #salida.append(np.nansum(salida))\n",
        "  return salida\n",
        "\n",
        "#print(operation_colum(data,\"Angelica\",\"Bill\"))\n"
      ],
      "execution_count": null,
      "outputs": []
    },
    {
      "cell_type": "code",
      "metadata": {
        "colab": {
          "base_uri": "https://localhost:8080/"
        },
        "id": "gezjPYdkkkXX",
        "outputId": "01665287-787e-4de1-8f58-3d0a3c75263e"
      },
      "source": [
        "def recomendation(colum,data,headers):\n",
        "  add = []\n",
        "  for i in range (0,len(headers)):\n",
        "    if colum!=headers[i]:\n",
        "      value = np.nansum(operation_colum(data,colum,headers[i]))\n",
        "      add.append((value,headers[i]))\n",
        "  add.sort()\n",
        "  vecino = add[0][1]\n",
        "  \n",
        "  songs_R = dict(zip(data[header], data[vecino]))\n",
        "  clean_dict_R = filter(lambda k: not isnan(songs_R[k]), songs_R)\n",
        "  clean_dict_R = {k: songs_R[k] for k in songs_R if not isnan(songs_R[k])}\n",
        "\n",
        "  songs_Colum = dict(zip(data[header], data[colum]))\n",
        "  clean_dict_colum = filter(lambda k: not isnan(songs_Colum[k]), songs_Colum)\n",
        "  clean_dict_colum = {k: songs_Colum[k] for k in songs_Colum if not isnan(songs_Colum[k])}\n",
        "\n",
        "  for artist in clean_dict_R:\n",
        "    if not artist in clean_dict_colum:\n",
        "      print(artist,\" \",clean_dict_R[artist])\n",
        "\n",
        "\n",
        "usuario = headers[random.randint(0,len(headers)-1)]\n",
        "print(usuario)\n",
        "recomendation(usuario,data,headers)"
      ],
      "execution_count": null,
      "outputs": [
        {
          "output_type": "stream",
          "text": [
            "Bill\n",
            "Norah Jones   5.0\n",
            "The Strokes   3.0\n"
          ],
          "name": "stdout"
        }
      ]
    },
    {
      "cell_type": "code",
      "metadata": {
        "colab": {
          "base_uri": "https://localhost:8080/"
        },
        "id": "8zuMgIRGidK2",
        "outputId": "d9c108b4-6b44-424c-8755-986bd6c22b5c"
      },
      "source": [
        "from math import sqrt\n",
        "\n",
        "users = {\"Angelica\": {\"Blues Traveler\": 3.5, \"Broken Bells\": 2.0, \"Norah Jones\": 4.5, \"Phoenix\": 5.0, \"Slightly Stoopid\": 1.5, \"The Strokes\": 2.5, \"Vampire Weekend\": 2.0},\n",
        "         \"Bill\":{\"Blues Traveler\": 2.0, \"Broken Bells\": 3.5, \"Deadmau5\": 4.0, \"Phoenix\": 2.0, \"Slightly Stoopid\": 3.5, \"Vampire Weekend\": 3.0},\n",
        "         \"Chan\": {\"Blues Traveler\": 5.0, \"Broken Bells\": 1.0, \"Deadmau5\": 1.0, \"Norah Jones\": 3.0, \"Phoenix\": 5, \"Slightly Stoopid\": 1.0},\n",
        "         \"Dan\": {\"Blues Traveler\": 3.0, \"Broken Bells\": 4.0, \"Deadmau5\": 4.5, \"Phoenix\": 3.0, \"Slightly Stoopid\": 4.5, \"The Strokes\": 4.0, \"Vampire Weekend\": 2.0},\n",
        "         \"Hailey\": {\"Broken Bells\": 4.0, \"Deadmau5\": 1.0, \"Norah Jones\": 4.0, \"The Strokes\": 4.0, \"Vampire Weekend\": 1.0},\n",
        "         \"Jordyn\":  {\"Broken Bells\": 4.5, \"Deadmau5\": 4.0, \"Norah Jones\": 5.0, \"Phoenix\": 5.0, \"Slightly Stoopid\": 4.5, \"The Strokes\": 4.0, \"Vampire Weekend\": 4.0},\n",
        "         \"Sam\": {\"Blues Traveler\": 5.0, \"Broken Bells\": 2.0, \"Norah Jones\": 3.0, \"Phoenix\": 5.0, \"Slightly Stoopid\": 4.0, \"The Strokes\": 5.0},\n",
        "         \"Veronica\": {\"Blues Traveler\": 3.0, \"Norah Jones\": 5.0, \"Phoenix\": 4.0, \"Slightly Stoopid\": 2.5, \"The Strokes\": 3.0}\n",
        "        }\n",
        "\n",
        "def manhattan(rating1, rating2):\n",
        "    \"\"\"Computes the Manhattan distance. Both rating1 and rating2 are dictionaries\n",
        "       of the form {'The Strokes': 3.0, 'Slightly Stoopid': 2.5}\"\"\"\n",
        "    distance = 0\n",
        "    commonRatings = False \n",
        "    for key in rating1:\n",
        "        if key in rating2:\n",
        "            distance += abs(rating1[key] - rating2[key])\n",
        "            commonRatings = True\n",
        "    if commonRatings:\n",
        "        return distance\n",
        "    else:\n",
        "        return -1 #Indicates no ratings in common\n",
        "\n",
        "\n",
        "def computeNearestNeighbor(username, users):\n",
        "    \"\"\"creates a sorted list of users based on their distance to username\"\"\"\n",
        "    distances = []\n",
        "    for user in users:\n",
        "        if user != username:\n",
        "            distance = manhattan(users[user], users[username])\n",
        "            distances.append((distance, user))\n",
        "    # sort based on distance -- closest first\n",
        "    \n",
        "    distances.sort()\n",
        "    return distances\n",
        "\n",
        "def recommend(username, users):\n",
        "    \"\"\"Give list of recommendations\"\"\"\n",
        "    # first find nearest neighbor\n",
        "    nearest = computeNearestNeighbor(username, users)[0][1]\n",
        "    print(nearest)\n",
        "    recommendations = []\n",
        "    # now find bands neighbor rated that user didn't\n",
        "    neighborRatings = users[nearest]\n",
        "    userRatings = users[username]\n",
        "    for artist in neighborRatings:\n",
        "        if not artist in userRatings:\n",
        "            recommendations.append((artist, neighborRatings[artist]))\n",
        "    # using the fn sorted for variety - sort is more efficient\n",
        "    return sorted(recommendations, key=lambda artistTuple: artistTuple[1], reverse = True)\n",
        "\n",
        "# examples - uncomment to run\n",
        "\n",
        "print( recommend('Bill', users))\n",
        "#print( recommend('Chan', users))"
      ],
      "execution_count": null,
      "outputs": [
        {
          "output_type": "stream",
          "text": [
            "Veronica\n",
            "[('Norah Jones', 5.0), ('The Strokes', 3.0)]\n"
          ],
          "name": "stdout"
        }
      ]
    }
  ]
}